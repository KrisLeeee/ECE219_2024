{
 "cells": [
  {
   "cell_type": "markdown",
   "metadata": {
    "id": "JTTpv6L4tZ_8"
   },
   "source": [
    "**Project 3**\n",
    "\n",
    "Kuei-Tzu Hu 206300553\n",
    "\n",
    "Sreya Muppalla 505675909\n",
    "\n",
    "Christina Lee 406299676"
   ]
  },
  {
   "cell_type": "code",
   "execution_count": 1,
   "metadata": {
    "id": "n7dKvHBNtTWi"
   },
   "outputs": [],
   "source": [
    "import numpy as np\n",
    "import pandas as pd\n",
    "import matplotlib.pyplot as plt"
   ]
  },
  {
   "cell_type": "markdown",
   "metadata": {
    "id": "et1EPeG1mfDf"
   },
   "source": [
    "# Ranking"
   ]
  },
  {
   "cell_type": "markdown",
   "metadata": {},
   "source": [
    "## Question 13"
   ]
  },
  {
   "cell_type": "markdown",
   "metadata": {
    "id": "UCxvyT99QZhm"
   },
   "source": [
    "**QUESTION 13: Data Understanding and Preprocessing:**\n",
    "\n",
    "• Use the provided helper code for loading and pre-processing Web10k data."
   ]
  },
  {
   "cell_type": "code",
   "execution_count": 2,
   "metadata": {
    "colab": {
     "base_uri": "https://localhost:8080/"
    },
    "id": "TjQMjja6Qd2C",
    "outputId": "9b609a03-92ae-4066-e14f-26e440f69d5c"
   },
   "outputs": [
    {
     "name": "stdout",
     "output_type": "stream",
     "text": [
      "Requirement already satisfied: lightgbm in c:\\users\\myura\\anaconda3\\lib\\site-packages (4.3.0)\n",
      "Requirement already satisfied: numpy in c:\\users\\myura\\anaconda3\\lib\\site-packages (from lightgbm) (1.24.3)\n",
      "Requirement already satisfied: scipy in c:\\users\\myura\\anaconda3\\lib\\site-packages (from lightgbm) (1.11.1)\n"
     ]
    }
   ],
   "source": [
    "!pip install lightgbm"
   ]
  },
  {
   "cell_type": "code",
   "execution_count": 3,
   "metadata": {
    "id": "M2TmL_HrQeNJ"
   },
   "outputs": [],
   "source": [
    "from sklearn.datasets import load_svmlight_file\n",
    "from sklearn.metrics import ndcg_score\n",
    "import numpy as np\n",
    "\n",
    "# Load the dataset for one fold\n",
    "def load_one_fole(data_path):\n",
    "    X_train, y_train, qid_train = load_svmlight_file(str(data_path + 'train.txt'), query_id=True)\n",
    "    X_test, y_test, qid_test = load_svmlight_file(str(data_path + 'test.txt'), query_id=True)\n",
    "    y_train = y_train.astype(int)\n",
    "    y_test = y_test.astype(int)\n",
    "    _, group_train = np.unique(qid_train, return_counts=True)\n",
    "    _, group_test = np.unique(qid_test, return_counts=True)\n",
    "    return X_train, y_train, qid_train, group_train, X_test, y_test, qid_test, group_test\n",
    "\n",
    "def ndcg_single_query(y_score, y_true, k):\n",
    "    order = np.argsort(y_score)[::-1]\n",
    "    y_true = np.take(y_true, order[:k])\n",
    "\n",
    "    gain = 2 ** y_true - 1\n",
    "\n",
    "    discounts = np.log2(np.arange(len(y_true)) + 2)\n",
    "    return np.sum(gain / discounts)\n",
    "\n",
    "# calculate NDCG score given a trained model\n",
    "def compute_ndcg_all(model, X_test, y_test, qids_test, k=10):\n",
    "    unique_qids = np.unique(qids_test)\n",
    "    ndcg_ = list()\n",
    "    for i, qid in enumerate(unique_qids):\n",
    "        y = y_test[qids_test == qid]\n",
    "\n",
    "        if np.sum(y) == 0:\n",
    "            continue\n",
    "\n",
    "        p = model.predict(X_test[qids_test == qid])\n",
    "\n",
    "        idcg = ndcg_single_query(y, y, k=k)\n",
    "        ndcg_.append(ndcg_single_query(p, y, k=k) / idcg)\n",
    "    return np.mean(ndcg_)\n",
    "\n",
    "# get importance of features\n",
    "def get_feature_importance(model, importance_type='gain'):\n",
    "    return model.booster_.feature_importance(importance_type=importance_type)"
   ]
  },
  {
   "cell_type": "code",
   "execution_count": 4,
   "metadata": {
    "id": "uWNsAWnq7dpN"
   },
   "outputs": [],
   "source": [
    "datapath1 = \"./MSLR-WEB10K/Fold1/\"\n",
    "datapath2 = \"./MSLR-WEB10K/Fold2/\"\n",
    "datapath3 = \"./MSLR-WEB10K/Fold3/\"\n",
    "datapath4 = \"./MSLR-WEB10K/Fold4/\"\n",
    "datapath5 = \"./MSLR-WEB10K/Fold5/\"\n",
    "\n",
    "X1_train, y1_train, qid1_train, group1_train, X1_test, y1_test, qid1_test, group1_test = load_one_fole(datapath1)\n",
    "X2_train, y2_train, qid2_train, group2_train, X2_test, y2_test, qid2_test, group2_test = load_one_fole(datapath2)\n",
    "X3_train, y3_train, qid3_train, group3_train, X3_test, y3_test, qid3_test, group3_test = load_one_fole(datapath3)\n",
    "X4_train, y4_train, qid4_train, group4_train, X4_test, y4_test, qid4_test, group4_test = load_one_fole(datapath4)\n",
    "X5_train, y5_train, qid5_train, group5_train, X5_test, y5_test, qid5_test, group5_test = load_one_fole(datapath5)"
   ]
  },
  {
   "cell_type": "code",
   "execution_count": 5,
   "metadata": {},
   "outputs": [],
   "source": [
    "X_train = [X1_train, X2_train, X3_train, X4_train, X5_train]\n",
    "y_train = [y1_train, y2_train, y3_train, y4_train, y5_train]\n",
    "qid_train = [qid1_train, qid2_train, qid3_train, qid4_train, qid5_train]\n",
    "group_train = [group1_train, group2_train, group3_train, group4_train, group5_train]\n",
    "\n",
    "X_test = [X1_test, X2_test, X3_test, X4_test, X5_test]\n",
    "y_test = [y1_test, y2_test, y3_test, y4_test, y5_test]\n",
    "qid_test = [qid1_test, qid2_test, qid3_test, qid4_test, qid5_test]\n",
    "group_test = [group1_test, group2_test, group3_test, group4_test, group5_test]"
   ]
  },
  {
   "cell_type": "code",
   "execution_count": 6,
   "metadata": {},
   "outputs": [
    {
     "name": "stdout",
     "output_type": "stream",
     "text": [
      "(723412, 136)\n",
      "(716683, 136)\n",
      "(719111, 136)\n",
      "(718768, 136)\n",
      "(722602, 136)\n"
     ]
    }
   ],
   "source": [
    "for i in np.arange(len(X_train)) :\n",
    "    print(X_train[i].shape)"
   ]
  },
  {
   "cell_type": "markdown",
   "metadata": {},
   "source": [
    "• Print out the number of unique queries in total and show distribution of relevance labels.\n",
    "\n",
    " - 6000 unique queries for each folders"
   ]
  },
  {
   "cell_type": "code",
   "execution_count": 7,
   "metadata": {
    "colab": {
     "base_uri": "https://localhost:8080/"
    },
    "id": "Hy8EQFqbQ5Xr",
    "outputId": "2f4ac978-cf5d-4420-a665-9e0b1357eab4"
   },
   "outputs": [
    {
     "name": "stdout",
     "output_type": "stream",
     "text": [
      "(6000,)\n",
      "(6000,)\n",
      "(6000,)\n",
      "(6000,)\n",
      "(6000,)\n"
     ]
    }
   ],
   "source": [
    "# number of unique queries\n",
    "\n",
    "for i in np.arange(len(group_train)) :\n",
    "    print(group_train[i].shape)"
   ]
  },
  {
   "cell_type": "code",
   "execution_count": 8,
   "metadata": {
    "id": "PKT45V4lKFic"
   },
   "outputs": [],
   "source": [
    "y1, count1 = np.unique(y1_train, return_counts=True)\n",
    "y2, count2 = np.unique(y2_train, return_counts=True)\n",
    "y3, count3 = np.unique(y3_train, return_counts=True)\n",
    "y4, count4 = np.unique(y4_train, return_counts=True)\n",
    "y5, count5 = np.unique(y5_train, return_counts=True)\n",
    "\n",
    "count = np.stack((count1, count2, count3, count4, count5))"
   ]
  },
  {
   "cell_type": "code",
   "execution_count": 9,
   "metadata": {},
   "outputs": [
    {
     "data": {
      "text/plain": [
       "232569"
      ]
     },
     "execution_count": 9,
     "metadata": {},
     "output_type": "execute_result"
    }
   ],
   "source": [
    "count[0][1]"
   ]
  },
  {
   "cell_type": "code",
   "execution_count": 10,
   "metadata": {},
   "outputs": [],
   "source": [
    "from tabulate import tabulate"
   ]
  },
  {
   "cell_type": "code",
   "execution_count": 11,
   "metadata": {},
   "outputs": [
    {
     "name": "stdout",
     "output_type": "stream",
     "text": [
      "             0       1      2      3     4\n",
      "------  ------  ------  -----  -----  ----\n",
      "Fold 1  377957  232569  95082  12658  5146\n",
      "Fold 2  373029  230368  95117  12814  5355\n",
      "Fold 3  371725  232302  96663  12903  5518\n",
      "Fold 4  372756  231727  96244  12712  5329\n",
      "Fold 5  377322  231874  95247  12864  5295\n"
     ]
    }
   ],
   "source": [
    "col_names = [\"0\", \"1\", \"2\", \"3\", \"4\"]\n",
    "\n",
    "data = [[\"Fold 1 \", count[0][0], count[0][1], count[0][2], count[0][3], count[0][4]],\n",
    "        [\"Fold 2 \", count[1][0], count[1][1], count[1][2], count[1][3], count[1][4]],\n",
    "        [\"Fold 3 \", count[2][0], count[2][1], count[2][2], count[2][3], count[2][4]],\n",
    "        [\"Fold 4 \", count[3][0], count[3][1], count[3][2], count[3][3], count[3][4]],\n",
    "        [\"Fold 5 \", count[4][0], count[4][1], count[4][2], count[4][3], count[4][4]]]\n",
    "\n",
    "print(tabulate(data, headers=col_names))"
   ]
  },
  {
   "cell_type": "code",
   "execution_count": 12,
   "metadata": {},
   "outputs": [
    {
     "data": {
      "image/png": "[encoded data removed]",
      "text/plain": [
       "<Figure size 640x480 with 1 Axes>"
      ]
     },
     "metadata": {},
     "output_type": "display_data"
    },
    {
     "data": {
      "image/png": "[encoded data removed]",
      "text/plain": [
       "<Figure size 640x480 with 1 Axes>"
      ]
     },
     "metadata": {},
     "output_type": "display_data"
    },
    {
     "data": {
      "image/png": "[encoded data removed]",
      "text/plain": [
       "<Figure size 640x480 with 1 Axes>"
      ]
     },
     "metadata": {},
     "output_type": "display_data"
    },
    {
     "data": {
      "image/png": "[encoded data removed]",
      "text/plain": [
       "<Figure size 640x480 with 1 Axes>"
      ]
     },
     "metadata": {},
     "output_type": "display_data"
    },
    {
     "data": {
      "image/png": "[encoded data removed]",
      "text/plain": [
       "<Figure size 640x480 with 1 Axes>"
      ]
     },
     "metadata": {},
     "output_type": "display_data"
    }
   ],
   "source": [
    "y_train = [y1_train, y2_train, y3_train, y4_train, y5_train]\n",
    "\n",
    "for i in np.arange(5) :\n",
    "  plt.figure()\n",
    "  plt.hist(y_train[i])\n",
    "  plt.xticks(np.arange(0, 4.5, 1))\n",
    "  plt.xlabel(\"Relevance Labels\");\n",
    "  plt.ylabel(\"Count Label\");\n",
    "  plt.title(f\"Folder {i + 1} : Distribution of Relevance Labels\")"
   ]
  },
  {
   "cell_type": "markdown",
   "metadata": {},
   "source": [
    "## Question 14"
   ]
  },
  {
   "attachments": {
    "image-2.png": {
     "image/png": "[encoded data removed]"
    }
   },
   "cell_type": "markdown",
   "metadata": {
    "id": "r2yu2dwVLr_Z"
   },
   "source": [
    "**QUESTION 14: LightGBM Model Training:**\n",
    "\n",
    "For each of the five provided folds, train a LightGBM model using the ’lambdarank’ objective. After training, evaluate and report the model’s performance on the test set using nDCG@3, nDCG@5 and nDCG@10.\n",
    "\n",
    "![image-2.png](attachment:image-2.png)"
   ]
  },
  {
   "cell_type": "code",
   "execution_count": 13,
   "metadata": {
    "id": "esm6ED64LrC8"
   },
   "outputs": [],
   "source": [
    "import lightgbm as lgb\n",
    "gbm1 = lgb.LGBMRanker()\n",
    "gbm2 = lgb.LGBMRanker()\n",
    "gbm3 = lgb.LGBMRanker()\n",
    "gbm4 = lgb.LGBMRanker()\n",
    "gbm5 = lgb.LGBMRanker()"
   ]
  },
  {
   "cell_type": "code",
   "execution_count": 14,
   "metadata": {
    "colab": {
     "base_uri": "https://localhost:8080/",
     "height": 287
    },
    "id": "kehqzYxkTtAt",
    "outputId": "c446f03b-7e45-466c-95ca-cb56afa268fd"
   },
   "outputs": [
    {
     "name": "stdout",
     "output_type": "stream",
     "text": [
      "[LightGBM] [Info] Auto-choosing row-wise multi-threading, the overhead of testing was 0.469313 seconds.\n",
      "You can set `force_row_wise=true` to remove the overhead.\n",
      "And if memory is not enough, you can set `force_col_wise=true`.\n",
      "[LightGBM] [Info] Total Bins 25637\n",
      "[LightGBM] [Info] Number of data points in the train set: 723412, number of used features: 136\n",
      "[LightGBM] [Info] Auto-choosing row-wise multi-threading, the overhead of testing was 0.558580 seconds.\n",
      "You can set `force_row_wise=true` to remove the overhead.\n",
      "And if memory is not enough, you can set `force_col_wise=true`.\n",
      "[LightGBM] [Info] Total Bins 25623\n",
      "[LightGBM] [Info] Number of data points in the train set: 716683, number of used features: 136\n",
      "[LightGBM] [Info] Auto-choosing row-wise multi-threading, the overhead of testing was 0.391367 seconds.\n",
      "You can set `force_row_wise=true` to remove the overhead.\n",
      "And if memory is not enough, you can set `force_col_wise=true`.\n",
      "[LightGBM] [Info] Total Bins 25659\n",
      "[LightGBM] [Info] Number of data points in the train set: 719111, number of used features: 136\n",
      "[LightGBM] [Info] Auto-choosing row-wise multi-threading, the overhead of testing was 0.460278 seconds.\n",
      "You can set `force_row_wise=true` to remove the overhead.\n",
      "And if memory is not enough, you can set `force_col_wise=true`.\n",
      "[LightGBM] [Info] Total Bins 25631\n",
      "[LightGBM] [Info] Number of data points in the train set: 718768, number of used features: 136\n",
      "[LightGBM] [Info] Auto-choosing row-wise multi-threading, the overhead of testing was 0.393762 seconds.\n",
      "You can set `force_row_wise=true` to remove the overhead.\n",
      "And if memory is not enough, you can set `force_col_wise=true`.\n",
      "[LightGBM] [Info] Total Bins 25501\n",
      "[LightGBM] [Info] Number of data points in the train set: 722602, number of used features: 136\n"
     ]
    }
   ],
   "source": [
    "fold1 = gbm1.fit(X1_train, y1_train, group=group1_train)\n",
    "fold2 = gbm2.fit(X2_train, y2_train, group=group2_train)\n",
    "fold3 = gbm3.fit(X3_train, y3_train, group=group3_train)\n",
    "fold4 = gbm4.fit(X4_train, y4_train, group=group4_train)\n",
    "fold5 = gbm5.fit(X5_train, y5_train, group=group5_train)"
   ]
  },
  {
   "cell_type": "code",
   "execution_count": 15,
   "metadata": {},
   "outputs": [],
   "source": [
    "folds = [fold1, fold2, fold3, fold4, fold5]\n",
    "X_test = [X1_test, X2_test, X3_test, X4_test, X5_test]\n",
    "y_test = [y1_test, y2_test, y3_test, y4_test, y5_test]\n",
    "qid_test = [qid1_test, qid2_test, qid3_test, qid4_test, qid5_test]"
   ]
  },
  {
   "cell_type": "code",
   "execution_count": 16,
   "metadata": {},
   "outputs": [],
   "source": [
    "ndcg3 = []\n",
    "ndcg5 = []\n",
    "ndcg10 = []\n",
    "\n",
    "for i in np.arange(5) :\n",
    "    n3 = compute_ndcg_all(folds[i], X_test[i], y_test[i], qid_test[i], k=3)\n",
    "    n5 = compute_ndcg_all(folds[i], X_test[i], y_test[i], qid_test[i], k=5)\n",
    "    n10 = compute_ndcg_all(folds[i], X_test[i], y_test[i], qid_test[i], k=10)\n",
    "    ndcg3 = np.append(ndcg3, n3)\n",
    "    ndcg5 = np.append(ndcg5, n5)\n",
    "    ndcg10 = np.append(ndcg10, n10)"
   ]
  },
  {
   "cell_type": "code",
   "execution_count": 17,
   "metadata": {},
   "outputs": [
    {
     "name": "stdout",
     "output_type": "stream",
     "text": [
      "           Fold 1    Fold 2    Fold 3    Fold 4    Fold 5\n",
      "-------  --------  --------  --------  --------  --------\n",
      "nDCG@3   0.456457  0.45389   0.449068  0.461179  0.469634\n",
      "nDCG@5   0.463289  0.457329  0.458348  0.466386  0.471432\n",
      "nDCG@10  0.482867  0.476755  0.475895  0.487725  0.490359\n"
     ]
    }
   ],
   "source": [
    "col_names = [\"Fold 1\", \"Fold 2\", \"Fold 3\", \"Fold 4\", \"Fold 5\"]\n",
    "\n",
    "data = [[\"nDCG@3\", ndcg3[0], ndcg3[1], ndcg3[2], ndcg3[3], ndcg3[4]],\n",
    "        [\"nDCG@5\", ndcg5[0], ndcg5[1], ndcg5[2], ndcg5[3], ndcg5[4]],\n",
    "        [\"nDCG@10\", ndcg10[0], ndcg10[1], ndcg10[2], ndcg10[3], ndcg10[4]]]\n",
    "\n",
    "print(tabulate(data, headers=col_names))"
   ]
  },
  {
   "cell_type": "markdown",
   "metadata": {},
   "source": [
    "**QUESTION 15: Result Analysis and Interpretation:**\n",
    "\n",
    "For each of the five provided folds, list top 5 most important features of the model based on the importance score.  \n",
    "Please use model.booster .feature importance(importance type=’gain’) as demonstrated here for retrieving importance score per feature. You can also find helper code in the provided notebook."
   ]
  },
  {
   "cell_type": "code",
   "execution_count": 18,
   "metadata": {},
   "outputs": [
    {
     "name": "stdout",
     "output_type": "stream",
     "text": [
      "  feature_name  importance_gain  importance_split\n",
      "0   Column_133     23856.702951                92\n",
      "1     Column_7      4248.546391                13\n",
      "2   Column_107      4135.244450               116\n",
      "3    Column_54      4078.463216                29\n",
      "4   Column_129      3635.037024               146\n"
     ]
    }
   ],
   "source": [
    "# Fold 1\n",
    "\n",
    "importance_df1 = (\n",
    "    pd.DataFrame({\n",
    "        'feature_name': fold1.feature_name_,\n",
    "        'importance_gain': get_feature_importance(fold1, importance_type='gain'),\n",
    "        'importance_split': get_feature_importance(fold1, importance_type='split'),\n",
    "    })\n",
    "    .sort_values('importance_gain', ascending=False)\n",
    "    .reset_index(drop=True)\n",
    ")\n",
    "print(importance_df1.head())"
   ]
  },
  {
   "cell_type": "code",
   "execution_count": 19,
   "metadata": {},
   "outputs": [
    {
     "name": "stdout",
     "output_type": "stream",
     "text": [
      "  feature_name  importance_gain  importance_split\n",
      "0   Column_133     23578.908250                82\n",
      "1     Column_7      5157.964912                18\n",
      "2    Column_54      4386.669757                44\n",
      "3   Column_107      4094.012172               105\n",
      "4   Column_129      4035.070673               151\n"
     ]
    }
   ],
   "source": [
    "# Fold 2\n",
    "\n",
    "importance_df2 = (\n",
    "    pd.DataFrame({\n",
    "        'feature_name': fold2.feature_name_,\n",
    "        'importance_gain': get_feature_importance(fold2, importance_type='gain'),\n",
    "        'importance_split': get_feature_importance(fold2, importance_type='split'),\n",
    "    })\n",
    "    .sort_values('importance_gain', ascending=False)\n",
    "    .reset_index(drop=True)\n",
    ")\n",
    "print(importance_df2.head())"
   ]
  },
  {
   "cell_type": "code",
   "execution_count": 20,
   "metadata": {},
   "outputs": [
    {
     "name": "stdout",
     "output_type": "stream",
     "text": [
      "  feature_name  importance_gain  importance_split\n",
      "0   Column_133     23218.075441                80\n",
      "1    Column_54      4991.303372                35\n",
      "2   Column_107      4226.807395                93\n",
      "3   Column_129      4059.752514               157\n",
      "4     Column_7      3691.792320                11\n"
     ]
    }
   ],
   "source": [
    "# Fold 3\n",
    "\n",
    "importance_df3 = (\n",
    "    pd.DataFrame({\n",
    "        'feature_name': fold3.feature_name_,\n",
    "        'importance_gain': get_feature_importance(fold3, importance_type='gain'),\n",
    "        'importance_split': get_feature_importance(fold3, importance_type='split'),\n",
    "    })\n",
    "    .sort_values('importance_gain', ascending=False)\n",
    "    .reset_index(drop=True)\n",
    ")\n",
    "print(importance_df3.head())"
   ]
  },
  {
   "cell_type": "code",
   "execution_count": 21,
   "metadata": {},
   "outputs": [
    {
     "name": "stdout",
     "output_type": "stream",
     "text": [
      "  feature_name  importance_gain  importance_split\n",
      "0   Column_133     23796.899673                78\n",
      "1     Column_7      4622.622978                15\n",
      "2    Column_54      3883.481706                20\n",
      "3   Column_129      3356.846980               158\n",
      "4   Column_128      3207.575537               113\n"
     ]
    }
   ],
   "source": [
    "# Fold 4\n",
    "\n",
    "importance_df4 = (\n",
    "    pd.DataFrame({\n",
    "        'feature_name': fold4.feature_name_,\n",
    "        'importance_gain': get_feature_importance(fold4, importance_type='gain'),\n",
    "        'importance_split': get_feature_importance(fold4, importance_type='split'),\n",
    "    })\n",
    "    .sort_values('importance_gain', ascending=False)\n",
    "    .reset_index(drop=True)\n",
    ")\n",
    "print(importance_df4.head())"
   ]
  },
  {
   "cell_type": "code",
   "execution_count": 22,
   "metadata": {},
   "outputs": [
    {
     "name": "stdout",
     "output_type": "stream",
     "text": [
      "  feature_name  importance_gain  importance_split\n",
      "0   Column_133     23540.942354                92\n",
      "1     Column_7      4794.945172                12\n",
      "2    Column_54      4079.608554                27\n",
      "3   Column_107      3514.835752                87\n",
      "4   Column_129      3209.058444               146\n"
     ]
    }
   ],
   "source": [
    "# Fold 5\n",
    "\n",
    "importance_df5 = (\n",
    "    pd.DataFrame({\n",
    "        'feature_name': fold5.feature_name_,\n",
    "        'importance_gain': get_feature_importance(fold5, importance_type='gain'),\n",
    "        'importance_split': get_feature_importance(fold5, importance_type='split'),\n",
    "    })\n",
    "    .sort_values('importance_gain', ascending=False)\n",
    "    .reset_index(drop=True)\n",
    ")\n",
    "print(importance_df5.head())"
   ]
  },
  {
   "cell_type": "markdown",
   "metadata": {},
   "source": [
    "**QUESTION 16: Experiments with Subset of Features:**\n",
    "\n",
    "For each of the five provided folds:\n",
    "\n",
    " - Remove the top 20 most important features according to the computed importance score in the question 15. Then train a new LightGBM model on the resulted 116 dimensional queryurl data.  \n",
    "Evaluate the performance of this new model on the test set using nDCG. Does the outcome align with your expectations? If not, please share your hypothesis regarding the potential reasons for this discrepancy."
   ]
  },
  {
   "attachments": {
    "image-3.png": {
     "image/png": "[encoded data removed]"
    },
    "image-4.png": {
     "image/png": "[encoded data removed]"
    }
   },
   "cell_type": "markdown",
   "metadata": {},
   "source": [
    "\n",
    "Original Model nDCG : \n",
    "\n",
    "![image-3.png](attachment:image-3.png)\n",
    "\n",
    "Drop 20 most important feature Model nDCG :\n",
    "\n",
    "![image-4.png](attachment:image-4.png)\n",
    "\n",
    "\n",
    "By removing the important 20 features for ranking the data, I expected for the DCG score to have a signoficant decrease. The outcome aligns with the expectations, as comparing to the original nDCG, the score decreased with every k and every folder by about 0.07.\n"
   ]
  },
  {
   "cell_type": "code",
   "execution_count": 23,
   "metadata": {},
   "outputs": [],
   "source": [
    "feature1 = np.zeros(136)\n",
    "feature2 = np.zeros(136)\n",
    "feature3 = np.zeros(136)\n",
    "feature4 = np.zeros(136)\n",
    "feature5 = np.zeros(136)\n",
    "\n",
    "for i in np.arange(136) : \n",
    "    feature1[i] = ''.join(x for x in importance_df1.feature_name[i] if x.isdigit())\n",
    "    feature2[i] = ''.join(x for x in importance_df2.feature_name[i] if x.isdigit())\n",
    "    feature3[i] = ''.join(x for x in importance_df3.feature_name[i] if x.isdigit())\n",
    "    feature4[i] = ''.join(x for x in importance_df4.feature_name[i] if x.isdigit())\n",
    "    feature5[i] = ''.join(x for x in importance_df5.feature_name[i] if x.isdigit())\n",
    "    \n",
    "features = [feature1, feature2, feature3, feature4, feature5]"
   ]
  },
  {
   "cell_type": "code",
   "execution_count": 24,
   "metadata": {},
   "outputs": [
    {
     "name": "stdout",
     "output_type": "stream",
     "text": [
      "107.0\n"
     ]
    }
   ],
   "source": [
    "print(feature1[2])"
   ]
  },
  {
   "cell_type": "code",
   "execution_count": 25,
   "metadata": {},
   "outputs": [],
   "source": [
    "def dropcols_fancy(M, idx_to_drop):\n",
    "    idx_to_drop = np.unique(idx_to_drop)\n",
    "    keep = ~np.in1d(np.arange(M.shape[1]), idx_to_drop, assume_unique=True)\n",
    "    return M[:, np.where(keep)[0]]"
   ]
  },
  {
   "cell_type": "code",
   "execution_count": 26,
   "metadata": {},
   "outputs": [
    {
     "name": "stdout",
     "output_type": "stream",
     "text": [
      "[array([133.,   7., 107.,  54., 129., 128., 134.,  64., 126.,  14., 132.,\n",
      "        13., 122., 125., 108., 130.,  29., 127., 109.,  48.]), array([133.,   7.,  54., 107., 129., 128., 132., 126.,  13., 134.,  10.,\n",
      "       130., 125., 108.,  64.,  14., 122.,  48., 127.,  29.]), array([133.,  54., 107., 129.,   7., 128.,  13.,  14., 134., 126., 132.,\n",
      "       130., 125., 114.,  29., 108., 127., 109.,  52.,  48.]), array([133.,   7.,  54., 129., 128., 107.,  13., 134.,  64.,  14., 132.,\n",
      "       130., 126., 125., 108.,  29.,  47., 114.,  48., 127.]), array([133.,   7.,  54., 107., 129., 128., 134., 126.,  13., 132., 130.,\n",
      "        48., 122.,  14.,  64., 125., 127., 108., 100.,  10.])]\n"
     ]
    }
   ],
   "source": [
    "ind_drop20 = [features[0][0:20], features[1][0:20], features[2][0:20], features[3][0:20], features[4][0:20]]\n",
    "print(ind_drop20)"
   ]
  },
  {
   "cell_type": "code",
   "execution_count": 27,
   "metadata": {},
   "outputs": [],
   "source": [
    "X_train_drop20 = []\n",
    "X_test_drop20 = []\n",
    "\n",
    "for i in np.arange(5) :\n",
    "    X_train_drop20 = np.append(X_train_drop20, dropcols_fancy(X_train[i], ind_drop20[i]))\n",
    "    X_test_drop20 = np.append(X_test_drop20, dropcols_fancy(X_test[i], ind_drop20[i]))"
   ]
  },
  {
   "cell_type": "code",
   "execution_count": 28,
   "metadata": {},
   "outputs": [
    {
     "name": "stdout",
     "output_type": "stream",
     "text": [
      "(722602, 116)\n",
      "(722602, 136)\n"
     ]
    }
   ],
   "source": [
    "print(X_train_drop20[4].shape)\n",
    "print(X_train[4].shape)"
   ]
  },
  {
   "cell_type": "code",
   "execution_count": 29,
   "metadata": {},
   "outputs": [
    {
     "name": "stdout",
     "output_type": "stream",
     "text": [
      "[<723412x116 sparse matrix of type '<class 'numpy.float64'>'\n",
      " \twith 83915792 stored elements in Compressed Sparse Row format>\n",
      " <716683x116 sparse matrix of type '<class 'numpy.float64'>'\n",
      " \twith 83135228 stored elements in Compressed Sparse Row format>\n",
      " <719111x116 sparse matrix of type '<class 'numpy.float64'>'\n",
      " \twith 83416876 stored elements in Compressed Sparse Row format>\n",
      " <718768x116 sparse matrix of type '<class 'numpy.float64'>'\n",
      " \twith 83377088 stored elements in Compressed Sparse Row format>\n",
      " <722602x116 sparse matrix of type '<class 'numpy.float64'>'\n",
      " \twith 83821832 stored elements in Compressed Sparse Row format>]\n"
     ]
    }
   ],
   "source": [
    "print(X_train_drop20)"
   ]
  },
  {
   "cell_type": "code",
   "execution_count": 30,
   "metadata": {},
   "outputs": [],
   "source": [
    "gbm1_drop20 = lgb.LGBMRanker()\n",
    "gbm2_drop20 = lgb.LGBMRanker()\n",
    "gbm3_drop20 = lgb.LGBMRanker()\n",
    "gbm4_drop20 = lgb.LGBMRanker()\n",
    "gbm5_drop20 = lgb.LGBMRanker()"
   ]
  },
  {
   "cell_type": "code",
   "execution_count": 31,
   "metadata": {},
   "outputs": [
    {
     "name": "stdout",
     "output_type": "stream",
     "text": [
      "[LightGBM] [Info] Auto-choosing row-wise multi-threading, the overhead of testing was 0.648338 seconds.\n",
      "You can set `force_row_wise=true` to remove the overhead.\n",
      "And if memory is not enough, you can set `force_col_wise=true`.\n",
      "[LightGBM] [Info] Total Bins 21582\n",
      "[LightGBM] [Info] Number of data points in the train set: 723412, number of used features: 116\n",
      "[LightGBM] [Info] Auto-choosing col-wise multi-threading, the overhead of testing was 1.054795 seconds.\n",
      "You can set `force_col_wise=true` to remove the overhead.\n",
      "[LightGBM] [Info] Total Bins 21551\n",
      "[LightGBM] [Info] Number of data points in the train set: 716683, number of used features: 116\n",
      "[LightGBM] [Info] Auto-choosing row-wise multi-threading, the overhead of testing was 0.381820 seconds.\n",
      "You can set `force_row_wise=true` to remove the overhead.\n",
      "And if memory is not enough, you can set `force_col_wise=true`.\n",
      "[LightGBM] [Info] Total Bins 21720\n",
      "[LightGBM] [Info] Number of data points in the train set: 719111, number of used features: 116\n",
      "[LightGBM] [Info] Auto-choosing row-wise multi-threading, the overhead of testing was 0.393714 seconds.\n",
      "You can set `force_row_wise=true` to remove the overhead.\n",
      "And if memory is not enough, you can set `force_col_wise=true`.\n",
      "[LightGBM] [Info] Total Bins 21670\n",
      "[LightGBM] [Info] Number of data points in the train set: 718768, number of used features: 116\n",
      "[LightGBM] [Info] Auto-choosing row-wise multi-threading, the overhead of testing was 0.464923 seconds.\n",
      "You can set `force_row_wise=true` to remove the overhead.\n",
      "And if memory is not enough, you can set `force_col_wise=true`.\n",
      "[LightGBM] [Info] Total Bins 21348\n",
      "[LightGBM] [Info] Number of data points in the train set: 722602, number of used features: 116\n"
     ]
    }
   ],
   "source": [
    "fold1_drop20 = gbm1_drop20.fit(X_train_drop20[0], y1_train, group=group1_train)\n",
    "fold2_drop20 = gbm2_drop20.fit(X_train_drop20[1], y2_train, group=group2_train)\n",
    "fold3_drop20 = gbm3_drop20.fit(X_train_drop20[2], y3_train, group=group3_train)\n",
    "fold4_drop20 = gbm4_drop20.fit(X_train_drop20[3], y4_train, group=group4_train)\n",
    "fold5_drop20 = gbm5_drop20.fit(X_train_drop20[4], y5_train, group=group5_train)\n",
    "\n",
    "folds_drop20 = [fold1_drop20, fold2_drop20, fold3_drop20, fold4_drop20, fold5_drop20]"
   ]
  },
  {
   "cell_type": "code",
   "execution_count": 32,
   "metadata": {},
   "outputs": [],
   "source": [
    "ndcg3_drop20 = []\n",
    "ndcg5_drop20 = []\n",
    "ndcg10_drop20 = []\n",
    "\n",
    "for i in np.arange(5) :\n",
    "    n3_d20 = compute_ndcg_all(folds_drop20[i], X_test_drop20[i], y_test[i], qid_test[i], k=3)\n",
    "    n5_d20 = compute_ndcg_all(folds_drop20[i], X_test_drop20[i], y_test[i], qid_test[i], k=5)\n",
    "    n10_d20 = compute_ndcg_all(folds_drop20[i], X_test_drop20[i], y_test[i], qid_test[i], k=10)\n",
    "    ndcg3_drop20 = np.append(ndcg3_drop20, n3_d20)\n",
    "    ndcg5_drop20 = np.append(ndcg5_drop20, n5_d20)\n",
    "    ndcg10_drop20 = np.append(ndcg10_drop20, n10_d20)"
   ]
  },
  {
   "cell_type": "code",
   "execution_count": 33,
   "metadata": {},
   "outputs": [
    {
     "name": "stdout",
     "output_type": "stream",
     "text": [
      "           Fold 1    Fold 2    Fold 3    Fold 4    Fold 5\n",
      "-------  --------  --------  --------  --------  --------\n",
      "nDCG@3   0.379675  0.373945  0.382383  0.381977  0.384283\n",
      "nDCG@5   0.38503   0.381954  0.389996  0.39281   0.392168\n",
      "nDCG@10  0.408364  0.404503  0.411636  0.412107  0.416687\n"
     ]
    }
   ],
   "source": [
    "col_names = [\"Fold 1\", \"Fold 2\", \"Fold 3\", \"Fold 4\", \"Fold 5\"]\n",
    "\n",
    "data = [[\"nDCG@3\", ndcg3_drop20[0], ndcg3_drop20[1], ndcg3_drop20[2], ndcg3_drop20[3], ndcg3_drop20[4]],\n",
    "        [\"nDCG@5\", ndcg5_drop20[0], ndcg5_drop20[1], ndcg5_drop20[2], ndcg5_drop20[3], ndcg5_drop20[4]],\n",
    "        [\"nDCG@10\", ndcg10_drop20[0], ndcg10_drop20[1], ndcg10_drop20[2], ndcg10_drop20[3], ndcg10_drop20[4]]]\n",
    "\n",
    "print(tabulate(data, headers=col_names))"
   ]
  },
  {
   "cell_type": "code",
   "execution_count": 34,
   "metadata": {},
   "outputs": [
    {
     "name": "stdout",
     "output_type": "stream",
     "text": [
      "  feature_name  importance_gain  importance_split\n",
      "0    Column_47      7130.373842                26\n",
      "1   Column_115      5221.429379               136\n",
      "2     Column_9      3150.081209               184\n",
      "3    Column_57      2859.952607                37\n",
      "4    Column_52      2340.531604               115\n"
     ]
    }
   ],
   "source": [
    "importance_df1_drop20 = (\n",
    "    pd.DataFrame({\n",
    "        'feature_name': fold1_drop20.feature_name_,\n",
    "        'importance_gain': get_feature_importance(fold1_drop20, importance_type='gain'),\n",
    "        'importance_split': get_feature_importance(fold1_drop20, importance_type='split'),\n",
    "    })\n",
    "    .sort_values('importance_gain', ascending=False)\n",
    "    .reset_index(drop=True)\n",
    ")\n",
    "print(importance_df1_drop20.head())"
   ]
  },
  {
   "cell_type": "code",
   "execution_count": 35,
   "metadata": {},
   "outputs": [
    {
     "name": "stdout",
     "output_type": "stream",
     "text": [
      "  feature_name  importance_gain  importance_split\n",
      "0    Column_46      7395.156866                24\n",
      "1   Column_115      5048.871017               138\n",
      "2    Column_56      2996.123232                39\n",
      "3   Column_114      2575.246776               184\n",
      "4    Column_51      2424.622715               109\n"
     ]
    }
   ],
   "source": [
    "importance_df2_drop20 = (\n",
    "    pd.DataFrame({\n",
    "        'feature_name': fold2_drop20.feature_name_,\n",
    "        'importance_gain': get_feature_importance(fold2_drop20, importance_type='gain'),\n",
    "        'importance_split': get_feature_importance(fold2_drop20, importance_type='split'),\n",
    "    })\n",
    "    .sort_values('importance_gain', ascending=False)\n",
    "    .reset_index(drop=True)\n",
    ")\n",
    "print(importance_df2_drop20.head())"
   ]
  },
  {
   "cell_type": "code",
   "execution_count": 36,
   "metadata": {},
   "outputs": [
    {
     "name": "stdout",
     "output_type": "stream",
     "text": [
      "  feature_name  importance_gain  importance_split\n",
      "0    Column_24      5193.621002                 6\n",
      "1   Column_115      4975.877589               147\n",
      "2     Column_9      3713.671880               181\n",
      "3    Column_56      3524.709081                46\n",
      "4    Column_43      2704.906328               113\n"
     ]
    }
   ],
   "source": [
    "importance_df3_drop20 = (\n",
    "    pd.DataFrame({\n",
    "        'feature_name': fold3_drop20.feature_name_,\n",
    "        'importance_gain': get_feature_importance(fold3_drop20, importance_type='gain'),\n",
    "        'importance_split': get_feature_importance(fold3_drop20, importance_type='split'),\n",
    "    })\n",
    "    .sort_values('importance_gain', ascending=False)\n",
    "    .reset_index(drop=True)\n",
    ")\n",
    "print(importance_df3_drop20.head())"
   ]
  },
  {
   "cell_type": "code",
   "execution_count": 37,
   "metadata": {},
   "outputs": [
    {
     "name": "stdout",
     "output_type": "stream",
     "text": [
      "  feature_name  importance_gain  importance_split\n",
      "0    Column_46      8002.362762                30\n",
      "1   Column_115      4566.683576               133\n",
      "2     Column_9      3429.345109               202\n",
      "3    Column_51      2785.960996               110\n",
      "4    Column_56      2668.623970                44\n"
     ]
    }
   ],
   "source": [
    "importance_df4_drop20 = (\n",
    "    pd.DataFrame({\n",
    "        'feature_name': fold4_drop20.feature_name_,\n",
    "        'importance_gain': get_feature_importance(fold4_drop20, importance_type='gain'),\n",
    "        'importance_split': get_feature_importance(fold4_drop20, importance_type='split'),\n",
    "    })\n",
    "    .sort_values('importance_gain', ascending=False)\n",
    "    .reset_index(drop=True)\n",
    ")\n",
    "print(importance_df4_drop20.head())"
   ]
  },
  {
   "cell_type": "code",
   "execution_count": 38,
   "metadata": {},
   "outputs": [
    {
     "name": "stdout",
     "output_type": "stream",
     "text": [
      "  feature_name  importance_gain  importance_split\n",
      "0    Column_47      7827.671422                18\n",
      "1   Column_115      4843.975987               127\n",
      "2    Column_57      3432.321164                50\n",
      "3    Column_43      2622.286555               114\n",
      "4   Column_114      2455.116591               188\n"
     ]
    }
   ],
   "source": [
    "importance_df5_drop20 = (\n",
    "    pd.DataFrame({\n",
    "        'feature_name': fold5_drop20.feature_name_,\n",
    "        'importance_gain': get_feature_importance(fold5_drop20, importance_type='gain'),\n",
    "        'importance_split': get_feature_importance(fold5_drop20, importance_type='split'),\n",
    "    })\n",
    "    .sort_values('importance_gain', ascending=False)\n",
    "    .reset_index(drop=True)\n",
    ")\n",
    "print(importance_df5_drop20.head())"
   ]
  },
  {
   "cell_type": "markdown",
   "metadata": {},
   "source": [
    " - Remove the 60 least important features according to the computed importance score in the question 15. Then train a new LightGBM model on the resulted 76 dimensional query-url data.  \n",
    "Evaluate the performance of this new model on the test set using nDCG. Does the outcome align with your expectations? If not, please share your hypothesis regarding the potential reasons for this discrepancy."
   ]
  },
  {
   "attachments": {
    "image-3.png": {
     "image/png": "[encoded data removed]"
    },
    "image-4.png": {
     "image/png": "[encoded data removed]"
    }
   },
   "cell_type": "markdown",
   "metadata": {},
   "source": [
    "Original Model nDCG :\n",
    "\n",
    "![image-3.png](attachment:image-3.png)\n",
    "\n",
    "Drop 60 least important features Model nDCG :\n",
    "\n",
    "![image-4.png](attachment:image-4.png)\n"
   ]
  },
  {
   "cell_type": "markdown",
   "metadata": {},
   "source": [
    "By removing the least important 60 features, I expected the nDCG score to decrease, but by a smaller degree than removing the top important 20 features. The least important features might not have much importance for training, but as almost half of the features are dropped I expected it to have a reasonable affect. As in result, the nDCG score remained almost the same, moslty very slightly decreasing, but in some cases, rather increasing. The reason of the consistance of the nDCG scores is, as shown below, that even though there are many features dropped, they have very low importance gain compared to the more important values. Therefore thay have very little affect to the ranking model. The slight increase of some of the scores could be caused by eliminating irrelevant features, enabling to focus on the more important features."
   ]
  },
  {
   "cell_type": "code",
   "execution_count": 39,
   "metadata": {},
   "outputs": [
    {
     "name": "stdout",
     "output_type": "stream",
     "text": [
      "   feature_name  importance_gain  importance_split\n",
      "0    Column_133     23856.702951                92\n",
      "1      Column_7      4248.546391                13\n",
      "2    Column_107      4135.244450               116\n",
      "3     Column_54      4078.463216                29\n",
      "4    Column_129      3635.037024               146\n",
      "5    Column_128      3141.889132               149\n",
      "6    Column_134      2928.917522                94\n",
      "7     Column_64      2473.033697                36\n",
      "8    Column_126      2460.174453                80\n",
      "9     Column_14      2398.556180                66\n",
      "10   Column_132      2235.702615               114\n",
      "11    Column_13      2173.701421                95\n",
      "12   Column_122      1707.601828                52\n",
      "13   Column_125      1586.174248               102\n",
      "14   Column_108      1533.270157                61\n",
      "15   Column_130      1530.053324               122\n",
      "16    Column_29      1244.337857                37\n",
      "17   Column_127      1143.260724                83\n",
      "18   Column_109      1031.612578                56\n",
      "19    Column_48       987.355606                23\n"
     ]
    }
   ],
   "source": [
    "print(importance_df1[0:20])"
   ]
  },
  {
   "cell_type": "code",
   "execution_count": 40,
   "metadata": {},
   "outputs": [
    {
     "name": "stdout",
     "output_type": "stream",
     "text": [
      "    feature_name  importance_gain  importance_split\n",
      "76     Column_62        80.436729                13\n",
      "77     Column_35        80.088470                14\n",
      "78     Column_76        77.891471                 6\n",
      "79     Column_89        77.751060                14\n",
      "80     Column_30        76.663699                11\n",
      "81     Column_55        74.273940                15\n",
      "82     Column_79        68.735949                12\n",
      "83     Column_81        67.386480                 4\n",
      "84     Column_50        65.964510                12\n",
      "85     Column_87        65.475030                11\n",
      "86     Column_20        62.900810                14\n",
      "87    Column_102        62.823020                12\n",
      "88     Column_93        59.304261                 7\n",
      "89     Column_40        59.196060                10\n",
      "90     Column_57        56.855900                 7\n",
      "91     Column_25        55.490171                10\n",
      "92     Column_34        55.162021                 5\n",
      "93     Column_67        54.072680                10\n",
      "94     Column_45        53.760900                 8\n",
      "95     Column_75        53.547240                 5\n",
      "96     Column_69        52.827990                12\n",
      "97    Column_119        52.731190                 7\n",
      "98    Column_113        52.103120                 9\n",
      "99    Column_110        43.336620                 7\n",
      "100   Column_101        40.393650                 5\n",
      "101    Column_84        40.188040                 8\n",
      "102    Column_38        39.378199                 2\n",
      "103    Column_77        32.972811                 6\n",
      "104     Column_1        29.837270                 3\n",
      "105    Column_78        27.164711                 4\n",
      "106    Column_94        26.704240                 5\n",
      "107   Column_103        25.130560                 3\n",
      "108     Column_8        24.854520                 2\n",
      "109     Column_9        22.847670                 3\n",
      "110    Column_90        20.716510                 4\n",
      "111    Column_68        19.123650                 4\n",
      "112    Column_37        18.903010                 3\n",
      "113    Column_61        15.429110                 2\n",
      "114    Column_27         8.969240                 1\n",
      "115    Column_41         7.181500                 2\n",
      "116    Column_66         6.699100                 1\n",
      "117    Column_51         5.437930                 1\n",
      "118     Column_3         5.431610                 1\n",
      "119    Column_32         4.664720                 1\n",
      "120     Column_4         3.927180                 1\n",
      "121    Column_22         2.533040                 1\n",
      "122    Column_23         0.000000                 0\n",
      "123    Column_26         0.000000                 0\n",
      "124    Column_28         0.000000                 0\n",
      "125    Column_31         0.000000                 0\n",
      "126    Column_99         0.000000                 0\n",
      "127    Column_33         0.000000                 0\n",
      "128    Column_98         0.000000                 0\n",
      "129    Column_43         0.000000                 0\n",
      "130    Column_56         0.000000                 0\n",
      "131    Column_91         0.000000                 0\n",
      "132    Column_95         0.000000                 0\n",
      "133    Column_96         0.000000                 0\n",
      "134    Column_97         0.000000                 0\n",
      "135     Column_0         0.000000                 0\n"
     ]
    }
   ],
   "source": [
    "print(importance_df1[76:136])"
   ]
  },
  {
   "cell_type": "code",
   "execution_count": 41,
   "metadata": {},
   "outputs": [
    {
     "name": "stdout",
     "output_type": "stream",
     "text": [
      "[array([ 62.,  35.,  76.,  89.,  30.,  55.,  79.,  81.,  50.,  87.,  20.,\n",
      "       102.,  93.,  40.,  57.,  25.,  34.,  67.,  45.,  75.,  69., 119.,\n",
      "       113., 110., 101.,  84.,  38.,  77.,   1.,  78.,  94., 103.,   8.,\n",
      "         9.,  90.,  68.,  37.,  61.,  27.,  41.,  66.,  51.,   3.,  32.,\n",
      "         4.,  22.,  23.,  26.,  28.,  31.,  99.,  33.,  98.,  43.,  56.,\n",
      "        91.,  95.,  96.,  97.,   0.]), array([102.,  93., 124.,   0., 120.,  51.,  22.,  55.,   9., 116.,  80.,\n",
      "        30.,  57.,  82.,  34.,  85.,  94.,  77., 111.,  39.,  37.,  42.,\n",
      "        36.,  90.,  78.,  67.,  86.,  38.,  35.,  92.,   1., 103.,  91.,\n",
      "        76.,   6.,  81.,  40.,  68.,   3.,  43.,   4.,  27.,  66.,  61.,\n",
      "        32.,  23.,  97.,  99.,  95.,   8., 101.,  21.,  33.,  96.,  26.,\n",
      "        41.,  28.,  56.,  31.,  98.]), array([ 67.,   8.,  36., 102.,  93.,  45.,  70.,  20., 116.,   6.,  79.,\n",
      "        57.,  81.,  77.,  30.,  53.,  60.,  34.,  35.,  94.,  39.,  25.,\n",
      "        55., 111.,  51.,  85.,  76.,   9.,  90.,  68.,  89.,  22.,  78.,\n",
      "        21.,  38.,  91.,   1., 103.,  37.,   4., 101.,  41.,  23.,  56.,\n",
      "        43.,  61.,   0.,  96.,  33.,  32.,  31.,  95.,  27.,  26.,  66.,\n",
      "        97.,  98.,  99.,   3.,  28.]), array([ 87.,  30., 120.,  78.,  77.,  84.,  51.,  42.,  92.,  76.,  55.,\n",
      "        58.,  68., 103.,  60., 111., 102.,  86.,  93.,  57.,  39.,  79.,\n",
      "        67.,   0.,  34.,  90.,   2.,  94.,  56., 101.,  35.,  81.,  25.,\n",
      "        80.,  91.,  32.,   9.,  22.,   4.,  21.,  43.,  41.,  36.,   3.,\n",
      "        37.,  33.,  27.,  23.,  66.,  61.,  99.,   8.,  95.,  98.,  26.,\n",
      "        31.,  97.,  96.,  38.,  28.]), array([ 30.,  44.,  40., 120.,  75.,  20.,  55.,  78., 110.,  34.,  89.,\n",
      "         9.,  84.,  80.,  60.,  25.,  93., 115.,   1., 111.,   0.,  22.,\n",
      "        50., 103.,  67.,  85.,  94.,  68.,  90.,  61., 101.,  91.,  38.,\n",
      "        32.,  51.,  56.,  43.,  35.,  81.,  76.,   8.,  33.,  66.,  37.,\n",
      "        23.,  36.,  21.,  26.,   4.,   3.,  99.,  95.,  27.,  28.,  31.,\n",
      "        41.,  98.,  96.,  86.,  97.])]\n"
     ]
    }
   ],
   "source": [
    "ind_drop60 = [features[0][76:136], features[1][76:136], features[2][76:136], features[3][76:136], features[4][76:136]]\n",
    "print(ind_drop60)"
   ]
  },
  {
   "cell_type": "code",
   "execution_count": 42,
   "metadata": {},
   "outputs": [],
   "source": [
    "X_train_drop60 = []\n",
    "X_test_drop60 = []\n",
    "\n",
    "for i in np.arange(5) :\n",
    "    X_train_drop60 = np.append(X_train_drop60, dropcols_fancy(X_train[i], ind_drop60[i]))\n",
    "    X_test_drop60 = np.append(X_test_drop60, dropcols_fancy(X_test[i], ind_drop60[i]))"
   ]
  },
  {
   "cell_type": "code",
   "execution_count": 43,
   "metadata": {},
   "outputs": [
    {
     "name": "stdout",
     "output_type": "stream",
     "text": [
      "(722602, 76)\n",
      "(722602, 136)\n"
     ]
    }
   ],
   "source": [
    "print(X_train_drop60[4].shape)\n",
    "print(X_train[4].shape)"
   ]
  },
  {
   "cell_type": "code",
   "execution_count": 44,
   "metadata": {},
   "outputs": [],
   "source": [
    "gbm1_drop60 = lgb.LGBMRanker()\n",
    "gbm2_drop60 = lgb.LGBMRanker()\n",
    "gbm3_drop60 = lgb.LGBMRanker()\n",
    "gbm4_drop60 = lgb.LGBMRanker()\n",
    "gbm5_drop60 = lgb.LGBMRanker()"
   ]
  },
  {
   "cell_type": "code",
   "execution_count": 45,
   "metadata": {},
   "outputs": [
    {
     "name": "stdout",
     "output_type": "stream",
     "text": [
      "[LightGBM] [Info] Auto-choosing row-wise multi-threading, the overhead of testing was 0.303759 seconds.\n",
      "You can set `force_row_wise=true` to remove the overhead.\n",
      "And if memory is not enough, you can set `force_col_wise=true`.\n",
      "[LightGBM] [Info] Total Bins 16271\n",
      "[LightGBM] [Info] Number of data points in the train set: 723412, number of used features: 76\n",
      "[LightGBM] [Info] Auto-choosing col-wise multi-threading, the overhead of testing was 1.091896 seconds.\n",
      "You can set `force_col_wise=true` to remove the overhead.\n",
      "[LightGBM] [Info] Total Bins 16780\n",
      "[LightGBM] [Info] Number of data points in the train set: 716683, number of used features: 76\n",
      "[LightGBM] [Info] Auto-choosing row-wise multi-threading, the overhead of testing was 0.177854 seconds.\n",
      "You can set `force_row_wise=true` to remove the overhead.\n",
      "And if memory is not enough, you can set `force_col_wise=true`.\n",
      "[LightGBM] [Info] Total Bins 17029\n",
      "[LightGBM] [Info] Number of data points in the train set: 719111, number of used features: 76\n",
      "[LightGBM] [Info] Auto-choosing col-wise multi-threading, the overhead of testing was 0.830182 seconds.\n",
      "You can set `force_col_wise=true` to remove the overhead.\n",
      "[LightGBM] [Info] Total Bins 16794\n",
      "[LightGBM] [Info] Number of data points in the train set: 718768, number of used features: 76\n",
      "[LightGBM] [Info] Auto-choosing row-wise multi-threading, the overhead of testing was 0.282994 seconds.\n",
      "You can set `force_row_wise=true` to remove the overhead.\n",
      "And if memory is not enough, you can set `force_col_wise=true`.\n",
      "[LightGBM] [Info] Total Bins 16338\n",
      "[LightGBM] [Info] Number of data points in the train set: 722602, number of used features: 76\n"
     ]
    }
   ],
   "source": [
    "fold1_drop60 = gbm1_drop60.fit(X_train_drop60[0], y1_train, group=group1_train)\n",
    "fold2_drop60 = gbm2_drop60.fit(X_train_drop60[1], y2_train, group=group2_train)\n",
    "fold3_drop60 = gbm3_drop60.fit(X_train_drop60[2], y3_train, group=group3_train)\n",
    "fold4_drop60 = gbm4_drop60.fit(X_train_drop60[3], y4_train, group=group4_train)\n",
    "fold5_drop60 = gbm5_drop60.fit(X_train_drop60[4], y5_train, group=group5_train)\n",
    "\n",
    "folds_drop60 = [fold1_drop60, fold2_drop60, fold3_drop60, fold4_drop60, fold5_drop60]"
   ]
  },
  {
   "cell_type": "code",
   "execution_count": 46,
   "metadata": {},
   "outputs": [],
   "source": [
    "ndcg3_drop60 = []\n",
    "ndcg5_drop60 = []\n",
    "ndcg10_drop60 = []\n",
    "\n",
    "for i in np.arange(5) :\n",
    "    n3_d60 = compute_ndcg_all(folds_drop60[i], X_test_drop60[i], y_test[i], qid_test[i], k=3)\n",
    "    n5_d60 = compute_ndcg_all(folds_drop60[i], X_test_drop60[i], y_test[i], qid_test[i], k=5)\n",
    "    n10_d60 = compute_ndcg_all(folds_drop60[i], X_test_drop60[i], y_test[i], qid_test[i], k=10)\n",
    "    ndcg3_drop60 = np.append(ndcg3_drop60, n3_d60)\n",
    "    ndcg5_drop60 = np.append(ndcg5_drop60, n5_d60)\n",
    "    ndcg10_drop60 = np.append(ndcg10_drop60, n10_d60)"
   ]
  },
  {
   "cell_type": "code",
   "execution_count": 47,
   "metadata": {},
   "outputs": [
    {
     "name": "stdout",
     "output_type": "stream",
     "text": [
      "           Fold 1    Fold 2    Fold 3    Fold 4    Fold 5\n",
      "-------  --------  --------  --------  --------  --------\n",
      "nDCG@3   0.454253  0.45729   0.44979   0.460635  0.470186\n",
      "nDCG@5   0.462657  0.460267  0.45864   0.46734   0.473352\n",
      "nDCG@10  0.481971  0.477253  0.477436  0.488881  0.490817\n"
     ]
    }
   ],
   "source": [
    "col_names = [\"Fold 1\", \"Fold 2\", \"Fold 3\", \"Fold 4\", \"Fold 5\"]\n",
    "\n",
    "data = [[\"nDCG@3\", ndcg3_drop60[0], ndcg3_drop60[1], ndcg3_drop60[2], ndcg3_drop60[3], ndcg3_drop60[4]],\n",
    "        [\"nDCG@5\", ndcg5_drop60[0], ndcg5_drop60[1], ndcg5_drop60[2], ndcg5_drop60[3], ndcg5_drop60[4]],\n",
    "        [\"nDCG@10\", ndcg10_drop60[0], ndcg10_drop60[1], ndcg10_drop60[2], ndcg10_drop60[3], ndcg10_drop60[4]]]\n",
    "\n",
    "print(tabulate(data, headers=col_names))"
   ]
  },
  {
   "cell_type": "code",
   "execution_count": 48,
   "metadata": {},
   "outputs": [
    {
     "name": "stdout",
     "output_type": "stream",
     "text": [
      "  feature_name  importance_gain  importance_split\n",
      "0    Column_73     23856.270343                90\n",
      "1    Column_27      4358.591591                33\n",
      "2    Column_50      4186.807418               124\n",
      "3     Column_3      4161.406613                24\n",
      "4    Column_69      3666.158772               150\n"
     ]
    }
   ],
   "source": [
    "importance_df1_drop60 = (\n",
    "    pd.DataFrame({\n",
    "        'feature_name': fold1_drop60.feature_name_,\n",
    "        'importance_gain': get_feature_importance(fold1_drop60, importance_type='gain'),\n",
    "        'importance_split': get_feature_importance(fold1_drop60, importance_type='split'),\n",
    "    })\n",
    "    .sort_values('importance_gain', ascending=False)\n",
    "    .reset_index(drop=True)\n",
    ")\n",
    "print(importance_df1_drop60.head())"
   ]
  },
  {
   "cell_type": "code",
   "execution_count": 49,
   "metadata": {},
   "outputs": [
    {
     "name": "stdout",
     "output_type": "stream",
     "text": [
      "  feature_name  importance_gain  importance_split\n",
      "0    Column_73     23712.889327                82\n",
      "1     Column_2      5248.989300                19\n",
      "2    Column_51      4299.243018               110\n",
      "3    Column_26      4290.079625                42\n",
      "4    Column_69      4153.481874               157\n"
     ]
    }
   ],
   "source": [
    "importance_df2_drop60 = (\n",
    "    pd.DataFrame({\n",
    "        'feature_name': fold2_drop60.feature_name_,\n",
    "        'importance_gain': get_feature_importance(fold2_drop60, importance_type='gain'),\n",
    "        'importance_split': get_feature_importance(fold2_drop60, importance_type='split'),\n",
    "    })\n",
    "    .sort_values('importance_gain', ascending=False)\n",
    "    .reset_index(drop=True)\n",
    ")\n",
    "print(importance_df2_drop60.head())"
   ]
  },
  {
   "cell_type": "code",
   "execution_count": 50,
   "metadata": {},
   "outputs": [
    {
     "name": "stdout",
     "output_type": "stream",
     "text": [
      "  feature_name  importance_gain  importance_split\n",
      "0    Column_73     23353.006551                75\n",
      "1    Column_24      4878.790909                24\n",
      "2    Column_49      4219.279321                91\n",
      "3    Column_69      3950.991465               169\n",
      "4     Column_2      3709.648280                17\n"
     ]
    }
   ],
   "source": [
    "importance_df3_drop60 = (\n",
    "    pd.DataFrame({\n",
    "        'feature_name': fold3_drop60.feature_name_,\n",
    "        'importance_gain': get_feature_importance(fold3_drop60, importance_type='gain'),\n",
    "        'importance_split': get_feature_importance(fold3_drop60, importance_type='split'),\n",
    "    })\n",
    "    .sort_values('importance_gain', ascending=False)\n",
    "    .reset_index(drop=True)\n",
    ")\n",
    "print(importance_df3_drop60.head())"
   ]
  },
  {
   "cell_type": "code",
   "execution_count": 51,
   "metadata": {},
   "outputs": [
    {
     "name": "stdout",
     "output_type": "stream",
     "text": [
      "  feature_name  importance_gain  importance_split\n",
      "0    Column_73     23852.530037                78\n",
      "1     Column_3      4690.577678                14\n",
      "2    Column_27      4277.049753                24\n",
      "3    Column_49      3377.314892                99\n",
      "4    Column_68      3337.080847               124\n"
     ]
    }
   ],
   "source": [
    "importance_df4_drop60 = (\n",
    "    pd.DataFrame({\n",
    "        'feature_name': fold4_drop60.feature_name_,\n",
    "        'importance_gain': get_feature_importance(fold4_drop60, importance_type='gain'),\n",
    "        'importance_split': get_feature_importance(fold4_drop60, importance_type='split'),\n",
    "    })\n",
    "    .sort_values('importance_gain', ascending=False)\n",
    "    .reset_index(drop=True)\n",
    ")\n",
    "print(importance_df4_drop60.head())"
   ]
  },
  {
   "cell_type": "code",
   "execution_count": 52,
   "metadata": {},
   "outputs": [
    {
     "name": "stdout",
     "output_type": "stream",
     "text": [
      "  feature_name  importance_gain  importance_split\n",
      "0    Column_73     23388.157174                88\n",
      "1     Column_3      4828.335942                13\n",
      "2    Column_25      4173.481593                38\n",
      "3    Column_51      3655.949524                99\n",
      "4    Column_69      3321.905646               151\n"
     ]
    }
   ],
   "source": [
    "importance_df5_drop60 = (\n",
    "    pd.DataFrame({\n",
    "        'feature_name': fold5_drop60.feature_name_,\n",
    "        'importance_gain': get_feature_importance(fold5_drop60, importance_type='gain'),\n",
    "        'importance_split': get_feature_importance(fold5_drop60, importance_type='split'),\n",
    "    })\n",
    "    .sort_values('importance_gain', ascending=False)\n",
    "    .reset_index(drop=True)\n",
    ")\n",
    "print(importance_df5_drop60.head())"
   ]
  },
  {
   "cell_type": "code",
   "execution_count": null,
   "metadata": {},
   "outputs": [],
   "source": []
  }
 ],
 "metadata": {
  "colab": {
   "machine_shape": "hm",
   "provenance": []
  },
  "kernelspec": {
   "display_name": "Python 3 (ipykernel)",
   "language": "python",
   "name": "python3"
  },
  "language_info": {
   "codemirror_mode": {
    "name": "ipython",
    "version": 3
   },
   "file_extension": ".py",
   "mimetype": "text/x-python",
   "name": "python",
   "nbconvert_exporter": "python",
   "pygments_lexer": "ipython3",
   "version": "3.9.17"
  }
 },
 "nbformat": 4,
 "nbformat_minor": 1
}
